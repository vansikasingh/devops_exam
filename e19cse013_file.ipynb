{
  "nbformat": 4,
  "nbformat_minor": 0,
  "metadata": {
    "colab": {
      "name": "e19cse013_file",
      "provenance": []
    },
    "kernelspec": {
      "name": "python3",
      "display_name": "Python 3"
    },
    "language_info": {
      "name": "python"
    }
  },
  "cells": [
    {
      "cell_type": "code",
      "execution_count": 2,
      "metadata": {
        "colab": {
          "base_uri": "https://localhost:8080/"
        },
        "id": "8zpl6RKYgDRZ",
        "outputId": "82f21291-e2db-47e7-aa0b-83283b616173"
      },
      "outputs": [
        {
          "output_type": "stream",
          "name": "stdout",
          "text": [
            "3 is a prime number\n"
          ]
        }
      ],
      "source": [
        "a=3\n",
        "if a > 1:\n",
        "    for i in range(2, int(a/2)+1):\n",
        "\n",
        "        if (a % i) == 0:\n",
        "            print(a, \"is not a prime number\")\n",
        "            break\n",
        "    else:\n",
        "        print(a, \"is a prime number\")\n",
        "  \n",
        "else:\n",
        "    print(a, \"is not a prime number\")"
      ]
    }
  ]
}